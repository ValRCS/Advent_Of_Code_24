{
 "cells": [
  {
   "cell_type": "markdown",
   "metadata": {},
   "source": [
    "# Day 5 - faulty printer\n",
    "\n",
    "--- Day 5: Print Queue ---\n",
    "Satisfied with their search on Ceres, the squadron of scholars suggests subsequently scanning the stationery stacks of sub-basement 17.\n",
    "\n",
    "The North Pole printing department is busier than ever this close to Christmas, and while The Historians continue their search of this historically significant facility, an Elf operating a very familiar printer beckons you over.\n",
    "\n",
    "The Elf must recognize you, because they waste no time explaining that the new sleigh launch safety manual updates won't print correctly. Failure to update the safety manuals would be dire indeed, so you offer your services.\n",
    "\n",
    "Safety protocols clearly indicate that new pages for the safety manuals must be printed in a very specific order. The notation X|Y means that if both page number X and page number Y are to be produced as part of an update, page number X must be printed at some point before page number Y.\n",
    "\n",
    "The Elf has for you both the page ordering rules and the pages to produce in each update (your puzzle input), but can't figure out whether each update has the pages in the right order.\n",
    "\n",
    "For example:\n",
    "```\n",
    "47|53\n",
    "97|13\n",
    "97|61\n",
    "97|47\n",
    "75|29\n",
    "61|13\n",
    "75|53\n",
    "29|13\n",
    "97|29\n",
    "53|29\n",
    "61|53\n",
    "97|53\n",
    "61|29\n",
    "47|13\n",
    "75|47\n",
    "97|75\n",
    "47|61\n",
    "75|61\n",
    "47|29\n",
    "75|13\n",
    "53|13\n",
    "\n",
    "75,47,61,53,29\n",
    "97,61,53,29,13\n",
    "75,29,13\n",
    "75,97,47,61,53\n",
    "61,13,29\n",
    "97,13,75,29,47\n",
    "```\n",
    "The first section specifies the page ordering rules, one per line. The first rule, 47|53, means that if an update includes both page number 47 and page number 53, then page number 47 must be printed at some point before page number 53. (47 doesn't necessarily need to be immediately before 53; other pages are allowed to be between them.)\n",
    "\n",
    "The second section specifies the page numbers of each update. Because most safety manuals are different, the pages needed in the updates are different too. The first update, 75,47,61,53,29, means that the update consists of page numbers 75, 47, 61, 53, and 29.\n",
    "\n",
    "To get the printers going as soon as possible, start by identifying which updates are already in the right order.\n",
    "\n",
    "In the above example, the first update (75,47,61,53,29) is in the right order:\n",
    "\n",
    "75 is correctly first because there are rules that put each other page after it: 75|47, 75|61, 75|53, and 75|29.\n",
    "47 is correctly second because 75 must be before it (75|47) and every other page must be after it according to 47|61, 47|53, and 47|29.\n",
    "61 is correctly in the middle because 75 and 47 are before it (75|61 and 47|61) and 53 and 29 are after it (61|53 and 61|29).\n",
    "53 is correctly fourth because it is before page number 29 (53|29).\n",
    "29 is the only page left and so is correctly last.\n",
    "Because the first update does not include some page numbers, the ordering rules involving those missing page numbers are ignored.\n",
    "\n",
    "The second and third updates are also in the correct order according to the rules. Like the first update, they also do not include every page number, and so only some of the ordering rules apply - within each update, the ordering rules that involve missing page numbers are not used.\n",
    "\n",
    "The fourth update, 75,97,47,61,53, is not in the correct order: it would print 75 before 97, which violates the rule 97|75.\n",
    "\n",
    "The fifth update, 61,13,29, is also not in the correct order, since it breaks the rule 29|13.\n",
    "\n",
    "The last update, 97,13,75,29,47, is not in the correct order due to breaking several rules.\n",
    "\n",
    "For some reason, the Elves also need to know the middle page number of each update being printed. Because you are currently only printing the correctly-ordered updates, you will need to find the middle page number of each correctly-ordered update. In the above example, the correctly-ordered updates are:\n",
    "\n",
    "75,47,61,53,29\n",
    "\n",
    "97,61,53,29,13\n",
    "\n",
    "75,29,13\n",
    "\n",
    "These have middle page numbers of 61, 53, and 29 respectively. Adding these page numbers together gives 143.\n",
    "\n",
    "Of course, you'll need to be careful: the actual list of page ordering rules is bigger and more complicated than the above example.\n",
    "\n",
    "Determine which updates are already in the correct order. What do you get if you add up the middle page number from those correctly-ordered updates?\n",
    "\n",
    "To begin, get your puzzle input."
   ]
  },
  {
   "cell_type": "code",
   "execution_count": 1,
   "metadata": {},
   "outputs": [
    {
     "name": "stdout",
     "output_type": "stream",
     "text": [
      "1352\n"
     ]
    }
   ],
   "source": [
    "# let's read the data first\n",
    "# data is in ../data/day5.txt\n",
    "# let's read all rows for now\n",
    "with open('../data/day5.txt') as f:\n",
    "    rows = f.readlines()\n",
    "\n",
    "# how many rows do we have?\n",
    "print(len(rows))"
   ]
  },
  {
   "cell_type": "code",
   "execution_count": 2,
   "metadata": {},
   "outputs": [
    {
     "name": "stdout",
     "output_type": "stream",
     "text": [
      "Dictionary size: 49\n",
      "Second part starts at: 1177\n",
      "56,79,55,52,85,41,61,97,64,72,86,46,58,48,96,62,76,12,13\n",
      "\n",
      "First [56, 79, 55, 52, 85, 41, 61, 97, 64, 72, 86, 46, 58, 48, 96, 62, 76, 12, 13]\n",
      "Last [28, 49, 56, 61, 13, 48, 86, 81, 58, 76, 46]\n",
      "Second part size: 175\n"
     ]
    }
   ],
   "source": [
    "# we have two types of rows separated by a single empty row\n",
    "# let's separate them\n",
    "# first part has entries in | separated format with two numbers for example 43|36\n",
    "# second part has entries in , separated format with unknown number of numbers for example 43,36,23,12,34\n",
    "# we will store the first in a dictionary where keys will be first number and a set of values will be second numbers\n",
    "\n",
    "# let's create the dictionary\n",
    "data = {}\n",
    "for i, row in enumerate(rows):\n",
    "    if row == '\\n':\n",
    "        break\n",
    "    key, value = row.strip().split('|')\n",
    "    key = int(key)\n",
    "    value = int(value)\n",
    "    if key not in data:\n",
    "        data[key] = set()\n",
    "    data[key].add(value)\n",
    "\n",
    "# size of dictionary\n",
    "print(\"Dictionary size:\", len(data))\n",
    "\n",
    "# now we know will store the second part in a list of lists\n",
    "print(\"Second part starts at:\", i+1)\n",
    "# lets print this first row\n",
    "print(rows[i+1])\n",
    "\n",
    "data2 = []\n",
    "for row in rows[i+1:]:\n",
    "    data2.append(list(map(int, row.strip().split(','))))\n",
    "\n",
    "# let's print the first row\n",
    "print(\"First\", data2[0])\n",
    "# let's print the size of the list\n",
    "# let's print the last row\n",
    "print(\"Last\", data2[-1])\n",
    "print(\"Second part size:\", len(data2))\n",
    "\n",
    "\n"
   ]
  },
  {
   "cell_type": "code",
   "execution_count": 3,
   "metadata": {},
   "outputs": [
    {
     "name": "stdout",
     "output_type": "stream",
     "text": [
      "{45: {11, 16, 17, 18, 19, 26, 27, 29, 31, 32, 34, 42, 44, 51, 52, 54, 55, 63, 77, 83, 84, 89, 93, 95}, 55: {11, 16, 17, 18, 19, 26, 27, 28, 29, 31, 32, 34, 38, 42, 44, 49, 51, 54, 63, 77, 83, 84, 93, 95}, 58: {16, 18, 29, 31, 32, 34, 41, 45, 46, 51, 52, 55, 63, 64, 72, 76, 77, 83, 84, 85, 89, 93, 95, 96}, 34: {11, 16, 17, 18, 19, 26, 27, 28, 32, 33, 38, 42, 44, 49, 51, 54, 56, 61, 62, 63, 77, 83, 93, 95}, 28: {12, 13, 22, 33, 38, 41, 45, 46, 47, 48, 49, 56, 58, 61, 62, 64, 72, 76, 79, 81, 85, 86, 96, 97}, 19: {12, 13, 22, 28, 33, 38, 42, 46, 47, 48, 49, 56, 58, 61, 62, 64, 72, 76, 79, 81, 85, 86, 96, 97}, 97: {12, 18, 22, 29, 31, 34, 41, 45, 46, 47, 52, 55, 58, 64, 72, 76, 79, 81, 84, 85, 86, 89, 93, 96}, 47: {16, 18, 29, 31, 34, 41, 45, 46, 52, 55, 58, 63, 64, 72, 76, 79, 81, 83, 84, 85, 89, 93, 95, 96}, 46: {16, 17, 18, 26, 29, 31, 32, 34, 41, 45, 51, 52, 55, 63, 64, 72, 77, 83, 84, 85, 89, 93, 95, 96}, 13: {12, 22, 29, 31, 34, 41, 45, 46, 47, 48, 52, 55, 58, 64, 72, 76, 79, 81, 84, 85, 86, 89, 96, 97}, 95: {11, 12, 13, 17, 19, 22, 26, 27, 28, 32, 33, 38, 42, 44, 48, 49, 51, 54, 56, 61, 62, 77, 86, 97}, 64: {16, 17, 18, 26, 29, 31, 32, 34, 41, 45, 51, 52, 54, 55, 63, 72, 77, 83, 84, 85, 89, 93, 95, 96}, 38: {12, 13, 22, 33, 41, 45, 46, 47, 48, 49, 56, 58, 61, 62, 64, 72, 76, 79, 81, 85, 86, 89, 96, 97}, 62: {12, 13, 22, 29, 31, 41, 45, 46, 47, 48, 52, 55, 58, 64, 72, 76, 79, 81, 84, 85, 86, 89, 96, 97}, 31: {11, 16, 17, 18, 19, 26, 27, 28, 29, 32, 33, 34, 38, 42, 44, 49, 51, 54, 63, 77, 83, 84, 93, 95}, 83: {11, 12, 13, 17, 19, 22, 26, 27, 28, 32, 33, 38, 42, 44, 48, 49, 51, 54, 56, 61, 62, 77, 95, 97}, 85: {11, 16, 17, 18, 26, 27, 29, 31, 32, 34, 41, 44, 45, 51, 52, 54, 55, 63, 77, 83, 84, 89, 93, 95}, 26: {11, 12, 13, 19, 22, 27, 28, 33, 38, 42, 44, 47, 48, 49, 54, 56, 58, 61, 62, 76, 79, 81, 86, 97}, 32: {11, 12, 13, 17, 19, 22, 26, 27, 28, 33, 38, 42, 44, 47, 48, 49, 54, 56, 61, 62, 79, 81, 86, 97}, 76: {16, 17, 18, 29, 31, 32, 34, 41, 45, 46, 51, 52, 55, 63, 64, 72, 77, 83, 84, 85, 89, 93, 95, 96}, 61: {12, 13, 22, 29, 31, 41, 45, 46, 47, 48, 52, 55, 58, 62, 64, 72, 76, 79, 81, 85, 86, 89, 96, 97}, 52: {11, 16, 17, 18, 19, 26, 27, 28, 29, 31, 32, 34, 38, 42, 44, 51, 54, 55, 63, 77, 83, 84, 93, 95}, 11: {12, 13, 19, 22, 28, 33, 38, 42, 46, 47, 48, 49, 56, 58, 61, 62, 64, 72, 76, 79, 81, 86, 96, 97}, 27: {11, 12, 13, 19, 22, 28, 33, 38, 42, 44, 46, 47, 48, 49, 56, 58, 61, 62, 64, 76, 79, 81, 86, 97}, 89: {11, 16, 17, 18, 19, 26, 27, 28, 29, 31, 32, 34, 42, 44, 51, 52, 54, 55, 63, 77, 83, 84, 93, 95}, 63: {11, 13, 16, 17, 19, 26, 27, 28, 32, 33, 38, 42, 44, 48, 49, 51, 54, 56, 61, 62, 77, 83, 95, 97}, 72: {16, 17, 18, 26, 27, 29, 31, 32, 34, 41, 44, 45, 51, 52, 54, 55, 63, 77, 83, 84, 85, 89, 93, 95}, 44: {11, 12, 13, 19, 22, 28, 33, 38, 42, 46, 47, 48, 49, 56, 58, 61, 62, 64, 76, 79, 81, 86, 96, 97}, 51: {11, 12, 13, 17, 19, 22, 26, 27, 28, 32, 33, 38, 42, 44, 47, 48, 49, 54, 56, 61, 62, 79, 86, 97}, 33: {12, 13, 22, 41, 45, 46, 47, 48, 52, 55, 56, 58, 61, 62, 64, 72, 76, 79, 81, 85, 86, 89, 96, 97}, 81: {16, 18, 29, 31, 34, 41, 45, 46, 51, 52, 55, 58, 63, 64, 72, 76, 77, 83, 84, 85, 89, 93, 95, 96}, 86: {16, 18, 29, 31, 34, 41, 45, 46, 47, 52, 55, 58, 63, 64, 72, 76, 79, 81, 83, 84, 85, 89, 93, 96}, 41: {11, 16, 17, 18, 19, 26, 27, 29, 31, 32, 34, 44, 45, 51, 52, 54, 55, 63, 77, 83, 84, 89, 93, 95}, 77: {11, 12, 13, 17, 19, 22, 26, 27, 28, 32, 33, 38, 42, 44, 47, 48, 49, 51, 54, 56, 61, 62, 86, 97}, 84: {11, 16, 17, 18, 19, 26, 27, 28, 32, 33, 34, 38, 42, 44, 49, 51, 54, 56, 61, 63, 77, 83, 93, 95}, 54: {11, 12, 13, 19, 22, 27, 28, 33, 38, 42, 44, 46, 47, 48, 49, 56, 58, 61, 62, 76, 79, 81, 86, 97}, 18: {11, 13, 16, 17, 19, 26, 27, 28, 32, 33, 38, 42, 44, 49, 51, 54, 56, 61, 62, 63, 77, 83, 93, 95}, 12: {18, 22, 29, 31, 34, 41, 45, 46, 47, 52, 55, 58, 63, 64, 72, 76, 79, 81, 84, 85, 86, 89, 93, 96}, 93: {11, 13, 16, 17, 19, 26, 27, 28, 32, 33, 38, 42, 44, 48, 49, 51, 54, 56, 61, 62, 63, 77, 83, 95}, 56: {12, 13, 22, 31, 41, 45, 46, 47, 48, 52, 55, 58, 61, 62, 64, 72, 76, 79, 81, 85, 86, 89, 96, 97}, 96: {16, 17, 18, 26, 27, 29, 31, 32, 34, 41, 45, 51, 52, 54, 55, 63, 72, 77, 83, 84, 85, 89, 93, 95}, 48: {12, 18, 22, 29, 31, 34, 41, 45, 46, 47, 52, 55, 58, 64, 72, 76, 79, 81, 84, 85, 86, 89, 96, 97}, 16: {11, 12, 13, 17, 19, 26, 27, 28, 32, 33, 38, 42, 44, 48, 49, 51, 54, 56, 61, 62, 77, 83, 95, 97}, 79: {16, 18, 29, 31, 34, 41, 45, 46, 52, 55, 58, 63, 64, 72, 76, 77, 81, 83, 84, 85, 89, 93, 95, 96}, 49: {12, 13, 22, 33, 41, 45, 46, 47, 48, 52, 56, 58, 61, 62, 64, 72, 76, 79, 81, 85, 86, 89, 96, 97}, 17: {11, 12, 13, 19, 22, 26, 27, 28, 33, 38, 42, 44, 47, 48, 49, 54, 56, 58, 61, 62, 79, 81, 86, 97}, 29: {11, 16, 17, 18, 19, 26, 27, 28, 32, 33, 34, 38, 42, 44, 49, 51, 54, 56, 63, 77, 83, 84, 93, 95}, 42: {12, 13, 22, 28, 33, 38, 41, 46, 47, 48, 49, 56, 58, 61, 62, 64, 72, 76, 79, 81, 85, 86, 96, 97}, 22: {16, 18, 29, 31, 34, 41, 45, 46, 47, 52, 55, 58, 63, 64, 72, 76, 79, 81, 84, 85, 86, 89, 93, 96}}\n"
     ]
    }
   ],
   "source": [
    "# let's print the dictionary\n",
    "print(data)"
   ]
  },
  {
   "cell_type": "code",
   "execution_count": null,
   "metadata": {},
   "outputs": [],
   "source": [
    "# now let's create a function that checks whether a list of numbers obeys the rules of the dictionary\n",
    "# the dictionary specifies the precedence of the numbers"
   ]
  },
  {
   "cell_type": "code",
   "execution_count": null,
   "metadata": {},
   "outputs": [
    {
     "name": "stdout",
     "output_type": "stream",
     "text": [
      "Number of valid rows: 84\n"
     ]
    }
   ],
   "source": [
    "# function to check whether row of numbers follows the rules of the dictionary\n",
    "# we only care about the bad rules, because it is possible that row follows the rules of the dictionary OR there is a missing rule in the dictionary\n",
    "def is_row_valid(row, d):\n",
    "    for i, n in enumerate(row):\n",
    "        for t in row[i:]:\n",
    "            if n in d.get(t, set()):\n",
    "                return False\n",
    "    return True\n",
    "\n",
    "rule_dict = data\n",
    "# filter valid rows\n",
    "valid_rows = [row for row in data2 if is_row_valid(row,rule_dict)]\n",
    "# how many valid rows are there\n",
    "\n",
    "print(\"Number of valid rows:\", len(valid_rows))\n"
   ]
  },
  {
   "cell_type": "code",
   "execution_count": 5,
   "metadata": {},
   "outputs": [
    {
     "name": "stdout",
     "output_type": "stream",
     "text": [
      "Middle numbers: [17, 26, 26, 51, 28, 26, 84, 28, 93, 63, 18, 96, 89, 27, 22, 33, 11, 13, 13, 93, 55, 32, 93, 32, 86, 16, 49, 12, 33, 19, 32, 47, 62, 17, 22, 31, 81, 33, 54, 63, 64, 61, 55, 96, 79, 97, 11, 17, 64, 32, 83, 56, 29, 72, 77, 44, 83, 52, 11, 45, 17, 46, 33, 18, 45, 55, 86, 27, 28, 58, 72, 95, 31, 95, 26, 85, 64, 19, 61, 48, 81, 96, 97, 48]\n"
     ]
    }
   ],
   "source": [
    "# let's make a function that returns middle number of a row\n",
    "def get_middle_number(row):\n",
    "    return row[len(row)//2]\n",
    "\n",
    "# let's get middle numbers\n",
    "middle_numbers = [get_middle_number(row) for row in valid_rows]\n",
    "# let's print the middle numbers\n",
    "print(\"Middle numbers:\", middle_numbers)"
   ]
  },
  {
   "cell_type": "code",
   "execution_count": 6,
   "metadata": {},
   "outputs": [
    {
     "name": "stdout",
     "output_type": "stream",
     "text": [
      "Sum of middle numbers: 4185\n"
     ]
    }
   ],
   "source": [
    "# sum of middle numbers\n",
    "print(\"Sum of middle numbers:\", sum(middle_numbers))"
   ]
  }
 ],
 "metadata": {
  "kernelspec": {
   "display_name": ".venv",
   "language": "python",
   "name": "python3"
  },
  "language_info": {
   "codemirror_mode": {
    "name": "ipython",
    "version": 3
   },
   "file_extension": ".py",
   "mimetype": "text/x-python",
   "name": "python",
   "nbconvert_exporter": "python",
   "pygments_lexer": "ipython3",
   "version": "3.12.1"
  }
 },
 "nbformat": 4,
 "nbformat_minor": 2
}
